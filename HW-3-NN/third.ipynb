{
 "cells": [
  {
   "cell_type": "code",
   "execution_count": 1,
   "metadata": {},
   "outputs": [],
   "source": [
    "from mnist import MNIST\n",
    "import numpy as np\n",
    "import csv\n",
    "from sklearn.externals import joblib\n",
    "from sklearn.neural_network import MLPClassifier\n",
    "import operator"
   ]
  },
  {
   "cell_type": "code",
   "execution_count": 2,
   "metadata": {},
   "outputs": [],
   "source": [
    "mndata = MNIST('samples')\n",
    "\n",
    "x_train,y_train = mndata.load_training()\n",
    "x_test,y_test = mndata.load_testing()\n",
    "\n",
    "x_train = np.array(x_train).astype(float)\n",
    "y_train = np.array(y_train).astype(float)\n",
    "\n",
    "x_test = np.array(x_test).astype(float)\n",
    "y_test = np.array(y_test).astype(float)\n",
    "\n",
    "x_train -= np.mean(x_train, axis = 0)\n",
    "max1 = np.max(x_train) - np.min(x_train)\n",
    "x_train = np.divide(x_train,max1)\n",
    "\n",
    "x_test -= np.mean(x_test, axis = 0)\n",
    "max1 = np.max(x_test) - np.min(x_test)\n",
    "x_test = np.divide(x_test,max1)\n",
    "\n",
    "accuracies = 0\n",
    "\n",
    "iterations = 100\n",
    "best = -1\n",
    "x_train = np.array(x_train)\n",
    "y_train = np.array(y_train)\n",
    "\n",
    "layers = [(800),(100,50),(100,75),(200,50,100)]"
   ]
  },
  {
   "cell_type": "code",
   "execution_count": 3,
   "metadata": {},
   "outputs": [],
   "source": [
    "clf = MLPClassifier(activation=\"relu\", alpha=0.01, hidden_layer_sizes=layers[0], learning_rate='constant',\n",
    "       learning_rate_init=0.01, max_iter=iterations, momentum=0.95, random_state=1,\n",
    "        solver='lbfgs', verbose=True)"
   ]
  }
 ],
 "metadata": {
  "celltoolbar": "Attachments",
  "kernelspec": {
   "display_name": "Python 2",
   "language": "python",
   "name": "python2"
  },
  "language_info": {
   "codemirror_mode": {
    "name": "ipython",
    "version": 2
   },
   "file_extension": ".py",
   "mimetype": "text/x-python",
   "name": "python",
   "nbconvert_exporter": "python",
   "pygments_lexer": "ipython2",
   "version": "2.7.12"
  }
 },
 "nbformat": 4,
 "nbformat_minor": 2
}
