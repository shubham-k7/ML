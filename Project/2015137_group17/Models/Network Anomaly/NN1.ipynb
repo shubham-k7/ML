{
 "cells": [
  {
   "cell_type": "code",
   "execution_count": 1,
   "metadata": {},
   "outputs": [
    {
     "name": "stderr",
     "output_type": "stream",
     "text": [
      "/usr/local/lib/python3.6/site-packages/sklearn/cross_validation.py:41: DeprecationWarning: This module was deprecated in version 0.18 in favor of the model_selection module into which all the refactored classes and functions are moved. Also note that the interface of the new CV iterators are different from that of this module. This module will be removed in 0.20.\n",
      "  \"This module will be removed in 0.20.\", DeprecationWarning)\n"
     ]
    }
   ],
   "source": [
    "import numpy as np\n",
    "import pandas as pd\n",
    "from sklearn.neural_network import MLPClassifier\n",
    "from sklearn.model_selection import train_test_split\n",
    "from sklearn.preprocessing import StandardScaler\n",
    "from sklearn.metrics import accuracy_score\n",
    "from sklearn import metrics\n",
    "from sklearn.datasets import fetch_mldata\n",
    "from sknn.mlp import Classifier, Layer\n",
    "from sklearn.ensemble import ExtraTreesClassifier\n",
    "from sklearn.feature_selection import SelectFromModel\n",
    "from sklearn.metrics import roc_auc_score\n",
    "from sklearn.metrics import confusion_matrix\n",
    "import matplotlib.pyplot as plt"
   ]
  },
  {
   "cell_type": "code",
   "execution_count": 2,
   "metadata": {},
   "outputs": [
    {
     "name": "stdout",
     "output_type": "stream",
     "text": [
      "(257673, 40)\n",
      "(257673,)\n"
     ]
    }
   ],
   "source": [
    "netsecdata=pd.read_csv('./network.csv',sep=',')\n",
    "\n",
    "x=netsecdata.drop([ 'id','proto', 'state', 'service',  'attack_cat'], axis=1).values\n",
    "y=netsecdata['label'].values\n",
    "\n",
    "\n",
    "print(x.shape)\n",
    "print(y.shape)"
   ]
  },
  {
   "cell_type": "code",
   "execution_count": 3,
   "metadata": {},
   "outputs": [
    {
     "name": "stdout",
     "output_type": "stream",
     "text": [
      "(257673, 8)\n"
     ]
    }
   ],
   "source": [
    "feature_select_model=ExtraTreesClassifier()\n",
    "feature_select_model.fit(x,y)\n",
    "model = SelectFromModel(feature_select_model, prefit=True)\n",
    "x=model.transform(x)\n",
    "print(x.shape)"
   ]
  },
  {
   "cell_type": "code",
   "execution_count": 4,
   "metadata": {
    "collapsed": true
   },
   "outputs": [],
   "source": [
    "number_of_samples=len(y)\n",
    "\n",
    "random_indices=np.random.permutation(number_of_samples)\n",
    "\n",
    "num_train=int(number_of_samples*0.7)\n",
    "num_test=int(number_of_samples*0.30)\n",
    "\n",
    "x_train=x[random_indices[:num_train]]\n",
    "y_train=y[random_indices[:num_train]]\n",
    "\n",
    "x_test=x[random_indices[num_train:]]\n",
    "y_test=y[random_indices[num_train:]]\n",
    "\n",
    "\n",
    "x_arr=[]\n",
    "\n",
    "for xi in x:\n",
    "    x_arr.append(np.reshape(xi,xi.size))\n",
    "\n",
    "x=x_arr"
   ]
  },
  {
   "cell_type": "code",
   "execution_count": 5,
   "metadata": {},
   "outputs": [],
   "source": [
    "model = Classifier(\n",
    "    layers=[\n",
    "        Layer(\"Sigmoid\", units=200),\n",
    "        Layer(\"Sigmoid\",units=150),\n",
    "        Layer(\"Sigmoid\",units=50),\n",
    "        Layer(\"Softmax\")],\n",
    "    learning_rate=0.001,\n",
    "    dropout_rate=0.25,\n",
    "    verbose=100,\n",
    "    n_iter=25)"
   ]
  },
  {
   "cell_type": "code",
   "execution_count": 6,
   "metadata": {},
   "outputs": [
    {
     "name": "stdout",
     "output_type": "stream",
     "text": [
      "Initializing neural network with 4 layers, 8 inputs and 2 outputs.\n",
      "  - Dense: \u001b[1;97mSigmoid   \u001b[0m Units:  \u001b[1;97m200 \u001b[0m\n",
      "  - Dense: \u001b[1;97mSigmoid   \u001b[0m Units:  \u001b[1;97m150 \u001b[0m\n",
      "  - Dense: \u001b[1;97mSigmoid   \u001b[0m Units:  \u001b[1;97m50  \u001b[0m\n",
      "  - Dense: \u001b[1;97mSoftmax   \u001b[0m Units:  \u001b[1;97m2   \u001b[0m\n",
      "\n",
      "Training on dataset of 180,371 samples with 1,803,710 total size.\n",
      "  - Using `dropout` for regularization.\n",
      "  - Terminating loop after 25 total iterations.\n",
      "  - Early termination after 10 stable iterations.\n",
      "\n",
      "Epoch       Training Error       Validation Error       Time\n",
      "------------------------------------------------------------\n",
      "    1         \u001b[0;94m 4.633e-01\u001b[0m                 N/A           69.4s\n",
      "    2         \u001b[0;94m 4.168e-01\u001b[0m                 N/A           71.5s\n",
      "    3         \u001b[0;94m 4.094e-01\u001b[0m                 N/A           86.1s\n",
      "    4         \u001b[0;94m 4.033e-01\u001b[0m                 N/A          114.2s\n",
      "    5          4.065e-01                 N/A          112.0s\n",
      "    6         \u001b[0;94m 3.998e-01\u001b[0m                 N/A           96.9s\n",
      "    7         \u001b[0;94m 3.968e-01\u001b[0m                 N/A           99.1s\n",
      "    8         \u001b[0;94m 3.969e-01\u001b[0m                 N/A           98.2s\n",
      "    9         \u001b[0;94m 3.931e-01\u001b[0m                 N/A           92.6s\n",
      "   10         \u001b[0;94m 3.864e-01\u001b[0m                 N/A           89.2s\n",
      "   11          3.882e-01                 N/A           67.6s\n",
      "   12         \u001b[0;94m 3.842e-01\u001b[0m                 N/A           59.1s\n",
      "   13         \u001b[0;94m 3.796e-01\u001b[0m                 N/A           59.9s\n",
      "   14         \u001b[0;94m 3.791e-01\u001b[0m                 N/A           59.4s\n",
      "   15         \u001b[0;94m 3.785e-01\u001b[0m                 N/A           59.0s\n",
      "   16         \u001b[0;94m 3.781e-01\u001b[0m                 N/A           59.0s\n",
      "   17          3.872e-01                 N/A           59.2s\n",
      "   18          3.816e-01                 N/A           59.0s\n",
      "   19         \u001b[0;94m 3.746e-01\u001b[0m                 N/A           59.2s\n",
      "   20         \u001b[0;94m 3.725e-01\u001b[0m                 N/A           59.1s\n",
      "   21         \u001b[0;94m 3.693e-01\u001b[0m                 N/A           59.0s\n",
      "   22          3.718e-01                 N/A           58.8s\n",
      "   23         \u001b[0;94m 3.690e-01\u001b[0m                 N/A           60.5s\n",
      "   24          3.704e-01                 N/A           61.1s\n",
      "   25          3.705e-01                 N/A           63.6s\n",
      "\n",
      "Terminating after specified 25 total iterations.\n"
     ]
    },
    {
     "data": {
      "text/plain": [
       "Classifier(batch_size=1, callback=None, debug=False, dropout_rate=0.25,\n",
       "      f_stable=0.001,\n",
       "      hidden0=<sknn.nn.Layer `Sigmoid`: name='hidden0', units=200, frozen=False>,\n",
       "      hidden1=<sknn.nn.Layer `Sigmoid`: name='hidden1', units=150, frozen=False>,\n",
       "      hidden2=<sknn.nn.Layer `Sigmoid`: name='hidden2', units=50, frozen=False>,\n",
       "      layers=[<sknn.nn.Layer `Sigmoid`: name='hidden0', units=200, frozen=False>, <sknn.nn.Layer `Sigmoid`: name='hidden1', units=150, frozen=False>, <sknn.nn.Layer `Sigmoid`: name='hidden2', units=50, frozen=False>, <sknn.nn.Layer `Softmax`: name='output', units=2, frozen=False>],\n",
       "      learning_momentum=0.9, learning_rate=0.001, learning_rule='sgd',\n",
       "      loss_type=None, n_iter=25, n_stable=10, normalize=None,\n",
       "      output=<sknn.nn.Layer `Softmax`: name='output', units=2, frozen=False>,\n",
       "      parameters=None, random_state=None, regularize='dropout',\n",
       "      valid_set=None, valid_size=0.0, verbose=100, warning=None,\n",
       "      weight_decay=None)"
      ]
     },
     "execution_count": 6,
     "metadata": {},
     "output_type": "execute_result"
    }
   ],
   "source": [
    "model.fit(x_train,y_train)"
   ]
  },
  {
   "cell_type": "code",
   "execution_count": 7,
   "metadata": {},
   "outputs": [
    {
     "name": "stdout",
     "output_type": "stream",
     "text": [
      "[(77302, 2)]\n",
      "88.2926703061\n"
     ]
    }
   ],
   "source": [
    "predicted=model.predict(x_test)\n",
    "\n",
    "print(accuracy_score(y_test, predicted)*100)"
   ]
  },
  {
   "cell_type": "code",
   "execution_count": 11,
   "metadata": {},
   "outputs": [
    {
     "data": {
      "text/plain": [
       "[<matplotlib.lines.Line2D at 0x1193204e0>]"
      ]
     },
     "execution_count": 11,
     "metadata": {},
     "output_type": "execute_result"
    },
    {
     "data": {
      "image/png": "[encoded data removed]",
      "text/plain": [
       "<matplotlib.figure.Figure at 0x1193205c0>"
      ]
     },
     "metadata": {},
     "output_type": "display_data"
    }
   ],
   "source": [
    "%matplotlib inline\n",
    "\n",
    "iteration=[1,2,3,4,5,6,7,8,9,10,11,12,13,14,15,16,17,18,19,20,21,22,23,24]\n",
    "lossval=[4.633e-01,4.168e-01,4.094e-01,4.033e-01,4.065e-01,3.998e-01,3.968e-01,3.968e-01,3.969e-01,3.931e-01 ,3.864e-01,3.882e-01, 3.842e-01,3.796e-01,3.791e-01,3.785e-01,3.781e-01,3.872e-01,3.816e-01 ,3.746e-01,3.725e-01,3.693e-01,3.718e-01,3.690e-01]\n",
    "\n",
    "plt.xlabel('Iterations')\n",
    "plt.ylabel('Loss')\n",
    "plt.title('Iterations vs Loss')\n",
    "plt.plot(iteration,lossval)"
   ]
  },
  {
   "cell_type": "code",
   "execution_count": 8,
   "metadata": {},
   "outputs": [
    {
     "name": "stdout",
     "output_type": "stream",
     "text": [
      "Accuracy: 88.2926703061\n",
      "Misclassification: 11.7073296939\n",
      "Sensitivity: 99.9455018872\n",
      "Specificty: 67.4952267733\n",
      "False Positive: 32.5047732267\n",
      "Precision Score: 84.5863441466\n"
     ]
    }
   ],
   "source": [
    "confusion=confusion_matrix(y_test,predicted)\n",
    "TP=confusion[1,1]\n",
    "TN=confusion[0,0]\n",
    "FP=confusion[0,1]\n",
    "FN=confusion[1,0]\n",
    "\n",
    "# Accuracy\n",
    "print('Accuracy:',(TP+TN)/float(TP+TN+FP+FN)*100)\n",
    "\n",
    "#Misclassification\n",
    "print('Misclassification:',(FP+FN)/float(TP+TN+FP+FN)*100)\n",
    "\n",
    "#Sensitivity\n",
    "print('Sensitivity:',(TP)/float(TP+FN)*100)\n",
    "\n",
    "#Specificity\n",
    "print('Specificty:',(TN)/float(TN+FP)*100)\n",
    "\n",
    "#Flase Positive Rate\n",
    "print('False Positive:',(FP)/float(TN+FP)*100)\n",
    "\n",
    "#Precision Score\n",
    "print('Precision Score:', (TP)/float(TP+FP)*100)"
   ]
  },
  {
   "cell_type": "code",
   "execution_count": 9,
   "metadata": {},
   "outputs": [
    {
     "data": {
      "image/png": "[encoded data removed]",
      "text/plain": [
       "<matplotlib.figure.Figure at 0x11bd4acc0>"
      ]
     },
     "metadata": {},
     "output_type": "display_data"
    },
    {
     "name": "stdout",
     "output_type": "stream",
     "text": [
      "Test AUC: 83.7203643303\n"
     ]
    }
   ],
   "source": [
    "fpr,tpr,threshold=metrics.roc_curve(y_test,predicted)\n",
    "plt.plot(fpr,tpr)\n",
    "plt.xlabel('Flase Positive Rate')\n",
    "plt.ylabel('True Positive Rate')\n",
    "plt.title('Test ROC')\n",
    "plt.show()\n",
    "\n",
    "print(\"Test AUC:\",metrics.roc_auc_score(y_test,predicted)*100)"
   ]
  },
  {
   "cell_type": "code",
   "execution_count": null,
   "metadata": {
    "collapsed": true
   },
   "outputs": [],
   "source": []
  }
 ],
 "metadata": {
  "kernelspec": {
   "display_name": "Python 3",
   "language": "python",
   "name": "python3"
  },
  "language_info": {
   "codemirror_mode": {
    "name": "ipython",
    "version": 3
   },
   "file_extension": ".py",
   "mimetype": "text/x-python",
   "name": "python",
   "nbconvert_exporter": "python",
   "pygments_lexer": "ipython3",
   "version": "3.6.0"
  }
 },
 "nbformat": 4,
 "nbformat_minor": 2
}
