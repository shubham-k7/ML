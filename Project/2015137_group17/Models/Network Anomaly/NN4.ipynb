{
 "cells": [
  {
   "cell_type": "code",
   "execution_count": 1,
   "metadata": {},
   "outputs": [
    {
     "name": "stderr",
     "output_type": "stream",
     "text": [
      "/usr/local/lib/python3.6/site-packages/sklearn/cross_validation.py:41: DeprecationWarning: This module was deprecated in version 0.18 in favor of the model_selection module into which all the refactored classes and functions are moved. Also note that the interface of the new CV iterators are different from that of this module. This module will be removed in 0.20.\n",
      "  \"This module will be removed in 0.20.\", DeprecationWarning)\n"
     ]
    }
   ],
   "source": [
    "import numpy as np\n",
    "import pandas as pd\n",
    "from sklearn.neural_network import MLPClassifier\n",
    "from sklearn.model_selection import train_test_split\n",
    "from sklearn.preprocessing import StandardScaler\n",
    "from sklearn.metrics import accuracy_score\n",
    "from sklearn import metrics\n",
    "from sklearn.datasets import fetch_mldata\n",
    "from sknn.mlp import Classifier, Layer\n",
    "from sklearn.ensemble import ExtraTreesClassifier\n",
    "from sklearn.feature_selection import SelectFromModel\n",
    "from sklearn.metrics import roc_auc_score\n",
    "from sklearn.metrics import confusion_matrix\n",
    "import matplotlib.pyplot as plt"
   ]
  },
  {
   "cell_type": "code",
   "execution_count": 2,
   "metadata": {},
   "outputs": [
    {
     "name": "stdout",
     "output_type": "stream",
     "text": [
      "(257673, 40)\n",
      "(257673,)\n"
     ]
    }
   ],
   "source": [
    "netsecdata=pd.read_csv('./network.csv',sep=',')\n",
    "\n",
    "x=netsecdata.drop([ 'id','proto', 'state', 'service',  'attack_cat'], axis=1).values\n",
    "y=netsecdata['label'].values\n",
    "\n",
    "\n",
    "print(x.shape)\n",
    "print(y.shape)"
   ]
  },
  {
   "cell_type": "code",
   "execution_count": 3,
   "metadata": {},
   "outputs": [
    {
     "name": "stdout",
     "output_type": "stream",
     "text": [
      "(257673, 6)\n"
     ]
    }
   ],
   "source": [
    "feature_select_model=ExtraTreesClassifier()\n",
    "feature_select_model.fit(x,y)\n",
    "model = SelectFromModel(feature_select_model, prefit=True)\n",
    "x=model.transform(x)\n",
    "print(x.shape)"
   ]
  },
  {
   "cell_type": "code",
   "execution_count": 4,
   "metadata": {
    "collapsed": true
   },
   "outputs": [],
   "source": [
    "number_of_samples=len(y)\n",
    "\n",
    "random_indices=np.random.permutation(number_of_samples)\n",
    "\n",
    "num_train=int(number_of_samples*0.7)\n",
    "num_test=int(number_of_samples*0.30)\n",
    "\n",
    "x_train=x[random_indices[:num_train]]\n",
    "y_train=y[random_indices[:num_train]]\n",
    "\n",
    "x_test=x[random_indices[num_train:]]\n",
    "y_test=y[random_indices[num_train:]]\n",
    "\n",
    "\n",
    "x_arr=[]\n",
    "\n",
    "for xi in x:\n",
    "    x_arr.append(np.reshape(xi,xi.size))\n",
    "\n",
    "x=x_arr"
   ]
  },
  {
   "cell_type": "code",
   "execution_count": 7,
   "metadata": {},
   "outputs": [],
   "source": [
    "model = Classifier(\n",
    "    layers=[\n",
    "        Layer(\"Sigmoid\", units=200),\n",
    "        Layer(\"Sigmoid\", units=150),\n",
    "        Layer(\"Rectifier\", units=150),\n",
    "        Layer(\"Tanh\", units=50),\n",
    "        Layer(\"Tanh\", units=10),\n",
    "        Layer(\"Softmax\")],\n",
    "    learning_rate=0.01,\n",
    "    dropout_rate=0.45,\n",
    "    verbose=100,\n",
    "    n_iter=25)"
   ]
  },
  {
   "cell_type": "code",
   "execution_count": 8,
   "metadata": {},
   "outputs": [
    {
     "name": "stdout",
     "output_type": "stream",
     "text": [
      "Initializing neural network with 6 layers, 6 inputs and 2 outputs.\n",
      "  - Dense: \u001b[1;97mSigmoid   \u001b[0m Units:  \u001b[1;97m200 \u001b[0m\n",
      "  - Dense: \u001b[1;97mSigmoid   \u001b[0m Units:  \u001b[1;97m150 \u001b[0m\n",
      "  - Dense: \u001b[1;97mRectifier \u001b[0m Units:  \u001b[1;97m150 \u001b[0m\n",
      "  - Dense: \u001b[1;97mTanh      \u001b[0m Units:  \u001b[1;97m50  \u001b[0m\n",
      "  - Dense: \u001b[1;97mTanh      \u001b[0m Units:  \u001b[1;97m10  \u001b[0m\n",
      "  - Dense: \u001b[1;97mSoftmax   \u001b[0m Units:  \u001b[1;97m2   \u001b[0m\n",
      "\n",
      "Training on dataset of 180,371 samples with 1,442,968 total size.\n",
      "  - Using `dropout` for regularization.\n",
      "  - Terminating loop after 25 total iterations.\n",
      "  - Early termination after 10 stable iterations.\n",
      "\n",
      "Epoch       Training Error       Validation Error       Time\n",
      "------------------------------------------------------------\n",
      "    1         \u001b[0;94m 5.786e-01\u001b[0m                 N/A          150.9s\n",
      "    2         \u001b[0;94m 5.358e-01\u001b[0m                 N/A          137.9s\n",
      "    3         \u001b[0;94m 5.270e-01\u001b[0m                 N/A          150.7s\n",
      "    4         \u001b[0;94m 5.259e-01\u001b[0m                 N/A          132.8s\n",
      "    5         \u001b[0;94m 5.258e-01\u001b[0m                 N/A          105.0s\n",
      "    6         \u001b[0;94m 5.253e-01\u001b[0m                 N/A           98.3s\n",
      "    7         \u001b[0;94m 5.240e-01\u001b[0m                 N/A          105.9s\n",
      "    8         \u001b[0;94m 5.189e-01\u001b[0m                 N/A          101.3s\n",
      "    9         \u001b[0;94m 5.156e-01\u001b[0m                 N/A          102.6s\n",
      "   10         \u001b[0;94m 5.136e-01\u001b[0m                 N/A          114.9s\n",
      "   11          5.143e-01                 N/A           98.4s\n",
      "   12         \u001b[0;94m 5.138e-01\u001b[0m                 N/A           95.1s\n",
      "   13          5.156e-01                 N/A          107.9s\n",
      "   14          5.165e-01                 N/A          108.0s\n",
      "   15          5.145e-01                 N/A           97.9s\n",
      "   16          5.154e-01                 N/A          104.4s\n",
      "   17          5.162e-01                 N/A          101.3s\n",
      "   18          5.148e-01                 N/A           96.4s\n",
      "   19          5.157e-01                 N/A          110.2s\n",
      "   20          5.147e-01                 N/A          103.5s\n",
      "   21         \u001b[0;94m 5.137e-01\u001b[0m                 N/A          100.5s\n",
      "   22         \u001b[0;94m 5.138e-01\u001b[0m                 N/A           99.5s\n",
      "   23          5.144e-01                 N/A          106.5s\n",
      "   24          5.142e-01                 N/A          109.2s\n",
      "   25         \u001b[0;94m 5.138e-01\u001b[0m                 N/A          100.5s\n",
      "\n",
      "Terminating after specified 25 total iterations.\n"
     ]
    },
    {
     "data": {
      "text/plain": [
       "Classifier(batch_size=1, callback=None, debug=False, dropout_rate=0.45,\n",
       "      f_stable=0.001,\n",
       "      hidden0=<sknn.nn.Layer `Sigmoid`: name='hidden0', units=200, frozen=False>,\n",
       "      hidden1=<sknn.nn.Layer `Sigmoid`: name='hidden1', units=150, frozen=False>,\n",
       "      hidden2=<sknn.nn.Layer `Rectifier`: name='hidden2', units=150, frozen=False>,\n",
       "      hidden3=<sknn.nn.Layer `Tanh`: name='hidden3', units=50, frozen=False>,\n",
       "      hidden4=<sknn.nn.Layer `Tanh`: name='hidden4', units=10, frozen=False>,\n",
       "      layers=[<sknn.nn.Layer `Sigmoid`: name='hidden0', units=200, frozen=False>, <sknn.nn.Layer `Sigmoid`: name='hidden1', units=150, frozen=False>, <sknn.nn.Layer `Rectifier`: name='hidden2', units=150, frozen=False>, <sknn.nn.Layer `Tanh`: name='hidden3', units=50, frozen=False>, <sknn.nn.Layer `Tanh`: name='hidden4', units=10, frozen=False>, <sknn.nn.Layer `Softmax`: name='output', units=2, frozen=False>],\n",
       "      learning_momentum=0.9, learning_rate=0.01, learning_rule='sgd',\n",
       "      loss_type=None, n_iter=25, n_stable=10, normalize=None,\n",
       "      output=<sknn.nn.Layer `Softmax`: name='output', units=2, frozen=False>,\n",
       "      parameters=None, random_state=None, regularize='dropout',\n",
       "      valid_set=None, valid_size=0.0, verbose=100, warning=None,\n",
       "      weight_decay=None)"
      ]
     },
     "execution_count": 8,
     "metadata": {},
     "output_type": "execute_result"
    }
   ],
   "source": [
    "model.fit(x_train,y_train)"
   ]
  },
  {
   "cell_type": "code",
   "execution_count": 9,
   "metadata": {},
   "outputs": [
    {
     "name": "stdout",
     "output_type": "stream",
     "text": [
      "[(77302, 2)]\n",
      "85.696359732\n"
     ]
    }
   ],
   "source": [
    "predicted=model.predict(x_test)\n",
    "\n",
    "print(accuracy_score(y_test, predicted)*100)"
   ]
  },
  {
   "cell_type": "code",
   "execution_count": 10,
   "metadata": {},
   "outputs": [
    {
     "data": {
      "text/plain": [
       "[<matplotlib.lines.Line2D at 0x11d348e80>]"
      ]
     },
     "execution_count": 10,
     "metadata": {},
     "output_type": "execute_result"
    },
    {
     "data": {
      "image/png": "[encoded data removed]",
      "text/plain": [
       "<matplotlib.figure.Figure at 0x11cebea20>"
      ]
     },
     "metadata": {},
     "output_type": "display_data"
    }
   ],
   "source": [
    "%matplotlib inline\n",
    "\n",
    "iteration=[1,2,3,4,5,6,7,8,9,10,11,12,13,14,15,16,17,18,19,20,21,22,23,24,25]\n",
    "lossval=[5.786e-01, 5.358e-01,5.270e-01, 5.259e-01, 5.258e-01, 5.253e-01,5.240e-01,5.189e-01,5.156e-01,5.136e-01,5.143e-01,5.138e-01 ,5.156e-01,5.165e-01,5.145e-01,5.154e-01,5.162e-01,5.148e-01,5.157e-01,5.147e-01,5.137e-01,5.138e-01 ,5.144e-01, 5.142e-01, 5.138e-01]\n",
    "\n",
    "plt.xlabel('Iterations')\n",
    "plt.ylabel('Loss')\n",
    "plt.title('Iterations vs Loss')\n",
    "plt.plot(iteration,lossval)"
   ]
  },
  {
   "cell_type": "code",
   "execution_count": 11,
   "metadata": {},
   "outputs": [
    {
     "name": "stdout",
     "output_type": "stream",
     "text": [
      "Accuracy: 85.696359732\n",
      "Misclassification: 14.303640268\n",
      "Sensitivity: 99.8929271298\n",
      "Specificty: 60.4215372442\n",
      "False Positive: 39.5784627558\n",
      "Precision Score: 81.7965260546\n"
     ]
    }
   ],
   "source": [
    "confusion=confusion_matrix(y_test,predicted)\n",
    "TP=confusion[1,1]\n",
    "TN=confusion[0,0]\n",
    "FP=confusion[0,1]\n",
    "FN=confusion[1,0]\n",
    "\n",
    "# Accuracy\n",
    "print('Accuracy:',(TP+TN)/float(TP+TN+FP+FN)*100)\n",
    "\n",
    "#Misclassification\n",
    "print('Misclassification:',(FP+FN)/float(TP+TN+FP+FN)*100)\n",
    "\n",
    "#Sensitivity\n",
    "print('Sensitivity:',(TP)/float(TP+FN)*100)\n",
    "\n",
    "#Specificity\n",
    "print('Specificty:',(TN)/float(TN+FP)*100)\n",
    "\n",
    "#Flase Positive Rate\n",
    "print('False Positive:',(FP)/float(TN+FP)*100)\n",
    "\n",
    "#Precision Score\n",
    "print('Precision Score:', (TP)/float(TP+FP)*100)"
   ]
  },
  {
   "cell_type": "code",
   "execution_count": 12,
   "metadata": {},
   "outputs": [
    {
     "data": {
      "image/png": "[encoded data removed]",
      "text/plain": [
       "<matplotlib.figure.Figure at 0x11d43af98>"
      ]
     },
     "metadata": {},
     "output_type": "display_data"
    },
    {
     "name": "stdout",
     "output_type": "stream",
     "text": [
      "Test AUC: 80.157232187\n"
     ]
    }
   ],
   "source": [
    "fpr,tpr,threshold=metrics.roc_curve(y_test,predicted)\n",
    "plt.plot(fpr,tpr)\n",
    "plt.xlabel('Flase Positive Rate')\n",
    "plt.ylabel('True Positive Rate')\n",
    "plt.title('Test ROC')\n",
    "plt.show()\n",
    "\n",
    "print(\"Test AUC:\",metrics.roc_auc_score(y_test,predicted)*100)"
   ]
  },
  {
   "cell_type": "code",
   "execution_count": null,
   "metadata": {
    "collapsed": true
   },
   "outputs": [],
   "source": []
  }
 ],
 "metadata": {
  "kernelspec": {
   "display_name": "Python 3",
   "language": "python",
   "name": "python3"
  },
  "language_info": {
   "codemirror_mode": {
    "name": "ipython",
    "version": 3
   },
   "file_extension": ".py",
   "mimetype": "text/x-python",
   "name": "python",
   "nbconvert_exporter": "python",
   "pygments_lexer": "ipython3",
   "version": "3.6.0"
  }
 },
 "nbformat": 4,
 "nbformat_minor": 2
}
