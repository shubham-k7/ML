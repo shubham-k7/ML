{
 "cells": [
  {
   "cell_type": "code",
   "execution_count": 2,
   "metadata": {},
   "outputs": [
    {
     "name": "stderr",
     "output_type": "stream",
     "text": [
      "/usr/local/lib/python3.6/site-packages/sklearn/cross_validation.py:41: DeprecationWarning: This module was deprecated in version 0.18 in favor of the model_selection module into which all the refactored classes and functions are moved. Also note that the interface of the new CV iterators are different from that of this module. This module will be removed in 0.20.\n",
      "  \"This module will be removed in 0.20.\", DeprecationWarning)\n"
     ]
    }
   ],
   "source": [
    "import numpy as np\n",
    "import pandas as pd\n",
    "from sklearn.neural_network import MLPClassifier\n",
    "from sklearn.model_selection import train_test_split\n",
    "from sklearn.preprocessing import StandardScaler\n",
    "from sklearn.metrics import accuracy_score\n",
    "from sklearn import metrics\n",
    "from sklearn.datasets import fetch_mldata\n",
    "from sknn.mlp import Classifier, Layer\n",
    "from sklearn.ensemble import ExtraTreesClassifier\n",
    "from sklearn.feature_selection import SelectFromModel\n",
    "from sklearn.metrics import roc_auc_score\n",
    "from sklearn.metrics import confusion_matrix\n",
    "import matplotlib.pyplot as plt"
   ]
  },
  {
   "cell_type": "code",
   "execution_count": 11,
   "metadata": {},
   "outputs": [
    {
     "name": "stdout",
     "output_type": "stream",
     "text": [
      "(257673, 40)\n",
      "(257673,)\n"
     ]
    }
   ],
   "source": [
    "netsecdata=pd.read_csv('./network.csv',sep=',')\n",
    "\n",
    "x=netsecdata.drop([ 'id','proto', 'state', 'service',  'attack_cat'], axis=1).values\n",
    "y=netsecdata['label'].values\n",
    "\n",
    "\n",
    "print(x.shape)\n",
    "print(y.shape)"
   ]
  },
  {
   "cell_type": "code",
   "execution_count": 15,
   "metadata": {},
   "outputs": [
    {
     "name": "stdout",
     "output_type": "stream",
     "text": [
      "(257673, 6)\n"
     ]
    }
   ],
   "source": [
    "feature_select_model=ExtraTreesClassifier()\n",
    "feature_select_model.fit(x,y)\n",
    "model = SelectFromModel(feature_select_model, prefit=True)\n",
    "x=model.transform(x)\n",
    "print(x.shape)"
   ]
  },
  {
   "cell_type": "code",
   "execution_count": 16,
   "metadata": {
    "collapsed": true
   },
   "outputs": [],
   "source": [
    "number_of_samples=len(y)\n",
    "\n",
    "random_indices=np.random.permutation(number_of_samples)\n",
    "\n",
    "num_train=int(number_of_samples*0.7)\n",
    "num_test=int(number_of_samples*0.30)\n",
    "\n",
    "x_train=x[random_indices[:num_train]]\n",
    "y_train=y[random_indices[:num_train]]\n",
    "\n",
    "x_test=x[random_indices[num_train:]]\n",
    "y_test=y[random_indices[num_train:]]\n",
    "\n",
    "\n",
    "x_arr=[]\n",
    "\n",
    "for xi in x:\n",
    "    x_arr.append(np.reshape(xi,xi.size))\n",
    "\n",
    "x=x_arr"
   ]
  },
  {
   "cell_type": "code",
   "execution_count": 17,
   "metadata": {},
   "outputs": [],
   "source": [
    "model=MLPClassifier(activation='relu',solver='sgd',hidden_layer_sizes=(300,200,150,100,50,10),verbose=100,max_iter=25, random_state=1)"
   ]
  },
  {
   "cell_type": "code",
   "execution_count": 18,
   "metadata": {},
   "outputs": [
    {
     "name": "stdout",
     "output_type": "stream",
     "text": [
      "Iteration 1, loss = 0.31086334\n",
      "Iteration 2, loss = 0.29329297\n",
      "Iteration 3, loss = 0.28875746\n",
      "Iteration 4, loss = 0.28640841\n",
      "Iteration 5, loss = 0.28506817\n",
      "Iteration 6, loss = 0.28319913\n",
      "Iteration 7, loss = 0.28422299\n",
      "Iteration 8, loss = 0.28135086\n",
      "Iteration 9, loss = 0.27789739\n",
      "Iteration 10, loss = 0.27271190\n",
      "Iteration 11, loss = 0.27226511\n",
      "Iteration 12, loss = 0.26944918\n",
      "Iteration 13, loss = 0.26730186\n",
      "Iteration 14, loss = 0.26833849\n",
      "Iteration 15, loss = 0.28101579\n",
      "Iteration 16, loss = 0.28069542\n",
      "Training loss did not improve more than tol=0.000100 for two consecutive epochs. Stopping.\n"
     ]
    },
    {
     "data": {
      "text/plain": [
       "MLPClassifier(activation='relu', alpha=0.0001, batch_size='auto', beta_1=0.9,\n",
       "       beta_2=0.999, early_stopping=False, epsilon=1e-08,\n",
       "       hidden_layer_sizes=(300, 200, 150, 100, 50, 10),\n",
       "       learning_rate='constant', learning_rate_init=0.001, max_iter=25,\n",
       "       momentum=0.9, nesterovs_momentum=True, power_t=0.5, random_state=1,\n",
       "       shuffle=True, solver='sgd', tol=0.0001, validation_fraction=0.1,\n",
       "       verbose=100, warm_start=False)"
      ]
     },
     "execution_count": 18,
     "metadata": {},
     "output_type": "execute_result"
    }
   ],
   "source": [
    "model.fit(x_train,y_train)"
   ]
  },
  {
   "cell_type": "code",
   "execution_count": 26,
   "metadata": {},
   "outputs": [
    {
     "data": {
      "text/plain": [
       "[<matplotlib.lines.Line2D at 0x10eb07828>]"
      ]
     },
     "execution_count": 26,
     "metadata": {},
     "output_type": "execute_result"
    },
    {
     "data": {
      "image/png": "[encoded data removed]",
      "text/plain": [
       "<matplotlib.figure.Figure at 0x10da007f0>"
      ]
     },
     "metadata": {},
     "output_type": "display_data"
    }
   ],
   "source": [
    "%matplotlib inline\n",
    "\n",
    "iteration=[1,2,3,4,5,6,7,8,9,10,11,12,13,14]\n",
    "lossval=[0.31086334,0.29329297,0.28875746,0.28640841,0.28506817,0.28319913,0.28422299,0.28135086,0.27789739,0.27271190,0.27226511,0.26944918,0.26730186,0.26833849]\n",
    "\n",
    "plt.xlabel('Iterations')\n",
    "plt.ylabel('Loss')\n",
    "plt.title('Iterations vs Loss')\n",
    "plt.plot(iteration,lossval)"
   ]
  },
  {
   "cell_type": "code",
   "execution_count": 20,
   "metadata": {},
   "outputs": [
    {
     "name": "stdout",
     "output_type": "stream",
     "text": [
      "88.2163462782\n"
     ]
    }
   ],
   "source": [
    "predicted=model.predict(x_test)\n",
    "\n",
    "print(accuracy_score(y_test, predicted)*100)"
   ]
  },
  {
   "cell_type": "code",
   "execution_count": 23,
   "metadata": {},
   "outputs": [
    {
     "name": "stdout",
     "output_type": "stream",
     "text": [
      "Accuracy: 88.2163462782\n",
      "Misclassification: 11.7836537218\n",
      "Sensitivity: 99.9918962723\n",
      "Specificty: 67.414644621\n",
      "False Positive: 32.585355379\n",
      "Precision Score: 84.4255144455\n"
     ]
    }
   ],
   "source": [
    "confusion=confusion_matrix(y_test,predicted)\n",
    "TP=confusion[1,1]\n",
    "TN=confusion[0,0]\n",
    "FP=confusion[0,1]\n",
    "FN=confusion[1,0]\n",
    "\n",
    "# Accuracy\n",
    "print('Accuracy:',(TP+TN)/float(TP+TN+FP+FN)*100)\n",
    "\n",
    "#Misclassification\n",
    "print('Misclassification:',(FP+FN)/float(TP+TN+FP+FN)*100)\n",
    "\n",
    "#Sensitivity\n",
    "print('Sensitivity:',(TP)/float(TP+FN)*100)\n",
    "\n",
    "#Specificity\n",
    "print('Specificty:',(TN)/float(TN+FP)*100)\n",
    "\n",
    "#Flase Positive Rate\n",
    "print('False Positive:',(FP)/float(TN+FP)*100)\n",
    "\n",
    "#Precision Score\n",
    "print('Precision Score:', (TP)/float(TP+FP)*100)"
   ]
  },
  {
   "cell_type": "code",
   "execution_count": 24,
   "metadata": {},
   "outputs": [
    {
     "data": {
      "image/png": "[encoded data removed]",
      "text/plain": [
       "<matplotlib.figure.Figure at 0x10c1c2518>"
      ]
     },
     "metadata": {},
     "output_type": "display_data"
    },
    {
     "name": "stdout",
     "output_type": "stream",
     "text": [
      "Test AUC: 83.7032704466\n"
     ]
    }
   ],
   "source": [
    "fpr,tpr,threshold=metrics.roc_curve(y_test,predicted)\n",
    "plt.plot(fpr,tpr)\n",
    "plt.xlabel('Flase Positive Rate')\n",
    "plt.ylabel('True Positive Rate')\n",
    "plt.title('Test ROC')\n",
    "plt.show()\n",
    "\n",
    "print(\"Test AUC:\",metrics.roc_auc_score(y_test,predicted)*100)"
   ]
  },
  {
   "cell_type": "code",
   "execution_count": null,
   "metadata": {
    "collapsed": true
   },
   "outputs": [],
   "source": []
  }
 ],
 "metadata": {
  "kernelspec": {
   "display_name": "Python 3",
   "language": "python",
   "name": "python3"
  },
  "language_info": {
   "codemirror_mode": {
    "name": "ipython",
    "version": 3
   },
   "file_extension": ".py",
   "mimetype": "text/x-python",
   "name": "python",
   "nbconvert_exporter": "python",
   "pygments_lexer": "ipython3",
   "version": "3.6.0"
  }
 },
 "nbformat": 4,
 "nbformat_minor": 2
}
