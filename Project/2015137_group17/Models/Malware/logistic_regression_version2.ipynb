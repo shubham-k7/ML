{
 "cells": [
  {
   "cell_type": "markdown",
   "metadata": {},
   "source": [
    "# Logitic Regression"
   ]
  },
  {
   "cell_type": "code",
   "execution_count": 1,
   "metadata": {},
   "outputs": [
    {
     "name": "stderr",
     "output_type": "stream",
     "text": [
      "/usr/local/lib/python2.7/dist-packages/sklearn/cross_validation.py:41: DeprecationWarning: This module was deprecated in version 0.18 in favor of the model_selection module into which all the refactored classes and functions are moved. Also note that the interface of the new CV iterators are different from that of this module. This module will be removed in 0.20.\n",
      "  \"This module will be removed in 0.20.\", DeprecationWarning)\n",
      "/usr/local/lib/python2.7/dist-packages/sklearn/grid_search.py:42: DeprecationWarning: This module was deprecated in version 0.18 in favor of the model_selection module into which all the refactored classes and functions are moved. This module will be removed in 0.20.\n",
      "  DeprecationWarning)\n"
     ]
    }
   ],
   "source": [
    "import pandas as pd\n",
    "import numpy as np\n",
    "from sklearn.manifold import TSNE\n",
    "import matplotlib.pyplot as plt\n",
    "from sklearn.ensemble import ExtraTreesClassifier\n",
    "from sklearn.feature_selection import SelectFromModel\n",
    "from sklearn.cross_validation import train_test_split\n",
    "from sklearn.metrics import accuracy_score\n",
    "from sklearn.grid_search import GridSearchCV\n",
    "from sklearn.linear_model import LogisticRegression\n",
    "from sklearn import metrics\n",
    "from sklearn.preprocessing import binarize\n",
    "from sklearn.cross_validation import cross_val_score"
   ]
  },
  {
   "cell_type": "code",
   "execution_count": 6,
   "metadata": {},
   "outputs": [
    {
     "name": "stdout",
     "output_type": "stream",
     "text": [
      "(138047, 54)\n",
      "(138047, 13)\n"
     ]
    }
   ],
   "source": [
    "maldata=pd.read_csv('../../Data/malware.csv',sep='|')\n",
    "\n",
    "x=maldata.drop(['Name', 'md5', 'legitimate'], axis=1).values\n",
    "y=maldata['legitimate'].values\n",
    "print(x.shape)\n",
    "\n",
    "\n",
    "feature_select_model=ExtraTreesClassifier()\n",
    "feature_select_model.fit(x,y)\n",
    "model = SelectFromModel(feature_select_model, prefit=True)\n",
    "x=model.transform(x)\n",
    "print(x.shape)\n",
    "\n",
    "number_of_samples=len(y)\n",
    "\n",
    "random_indices=np.random.permutation(number_of_samples)\n",
    "\n",
    "num_train=int(number_of_samples*0.7)\n",
    "num_test=int(number_of_samples*0.30)\n",
    "\n",
    "x_train=x[random_indices[:num_train]]\n",
    "y_train=y[random_indices[:num_train]]\n",
    "\n",
    "x_test=x[random_indices[num_train:]]\n",
    "y_test=y[random_indices[num_train:]]\n",
    "\n",
    "model=LogisticRegression()\n",
    "model.fit(x_train,y_train)\n",
    "y_pred = model.predict(x_test)"
   ]
  },
  {
   "cell_type": "markdown",
   "metadata": {},
   "source": [
    "## Accuracy"
   ]
  },
  {
   "cell_type": "code",
   "execution_count": 7,
   "metadata": {},
   "outputs": [
    {
     "name": "stdout",
     "output_type": "stream",
     "text": [
      "('Accuracy:', 30.056742726065433)\n"
     ]
    }
   ],
   "source": [
    "print(\"Accuracy:\",metrics.accuracy_score(y_test, y_pred)*100)"
   ]
  },
  {
   "cell_type": "markdown",
   "metadata": {},
   "source": [
    "## Null Accuracy"
   ]
  },
  {
   "cell_type": "code",
   "execution_count": 8,
   "metadata": {},
   "outputs": [
    {
     "name": "stdout",
     "output_type": "stream",
     "text": [
      "69.9432572739\n"
     ]
    }
   ],
   "source": [
    "print(max(y_test.mean(), 1 - y_test.mean())*100)"
   ]
  },
  {
   "cell_type": "markdown",
   "metadata": {},
   "source": [
    "## Confusion Matrix"
   ]
  },
  {
   "cell_type": "code",
   "execution_count": 10,
   "metadata": {},
   "outputs": [
    {
     "name": "stdout",
     "output_type": "stream",
     "text": [
      "[[    0 28967]\n",
      " [    0 12448]]\n",
      "('Accuracy:', 30.056742726065433)\n",
      "('Misclassification:', 69.943257273934563)\n",
      "('Sensitivity:', 100.0)\n",
      "('Specificty:', 0.0)\n",
      "('False Positive:', 100.0)\n",
      "('Precision Score:', 30.056742726065433)\n"
     ]
    }
   ],
   "source": [
    "print(metrics.confusion_matrix(y_test, y_pred))\n",
    "confusion = metrics.confusion_matrix(y_test, y_pred)\n",
    "TP = confusion[1, 1]\n",
    "TN = confusion[0, 0]\n",
    "FP = confusion[0, 1]\n",
    "FN = confusion[1, 0]\n",
    "\n",
    "\n",
    "# Accuracy\n",
    "print('Accuracy:',(TP+TN)/float(TP+TN+FP+FN)*100)\n",
    "\n",
    "#Misclassification\n",
    "print('Misclassification:',(FP+FN)/float(TP+TN+FP+FN)*100)\n",
    "\n",
    "#Sensitivity\n",
    "print('Sensitivity:',(TP)/float(TP+FN)*100)\n",
    "\n",
    "#Specificity\n",
    "print('Specificty:',(TN)/float(TN+FP)*100)\n",
    "\n",
    "#Flase Positive Rate\n",
    "print('False Positive:',(FP)/float(TN+FP)*100)\n",
    "\n",
    "#Precision Score\n",
    "print('Precision Score:', (TP)/float(TP+FP)*100)"
   ]
  },
  {
   "cell_type": "markdown",
   "metadata": {},
   "source": [
    "## ROC-AUC"
   ]
  },
  {
   "cell_type": "code",
   "execution_count": 12,
   "metadata": {},
   "outputs": [
    {
     "data": {
      "image/png": "[encoded data removed]",
      "text/plain": [
       "<matplotlib.figure.Figure at 0x7fe7127ad4d0>"
      ]
     },
     "metadata": {},
     "output_type": "display_data"
    },
    {
     "name": "stdout",
     "output_type": "stream",
     "text": [
      "0.5\n",
      "0.957088062754\n"
     ]
    }
   ],
   "source": [
    "fpr, tpr, thresholds = metrics.roc_curve(y_test, y_pred)\n",
    "plt.plot(fpr, tpr)\n",
    "plt.title('ROC curve for classifier')\n",
    "plt.xlabel('False Positive Rate (1 - Specificity)')\n",
    "plt.ylabel('True Positive Rate (Sensitivity)')\n",
    "plt.grid(True)\n",
    "plt.show()\n",
    "print(metrics.roc_auc_score(y_test, y_pred))\n",
    "print(cross_val_score(model, x, y, cv=10, scoring='roc_auc').mean())"
   ]
  },
  {
   "cell_type": "markdown",
   "metadata": {},
   "source": [
    "## Threshold Selection"
   ]
  },
  {
   "cell_type": "code",
   "execution_count": 13,
   "metadata": {},
   "outputs": [
    {
     "data": {
      "text/plain": [
       "<matplotlib.text.Text at 0x7fe712008390>"
      ]
     },
     "execution_count": 13,
     "metadata": {},
     "output_type": "execute_result"
    },
    {
     "data": {
      "image/png": "[encoded data removed]",
      "text/plain": [
       "<matplotlib.figure.Figure at 0x7fe7120d0050>"
      ]
     },
     "metadata": {},
     "output_type": "display_data"
    }
   ],
   "source": [
    "%matplotlib inline\n",
    "import matplotlib.pyplot as plt\n",
    "plt.rcParams['font.size'] = 14\n",
    "\n",
    "y_pred_prob = model.predict_proba(x_test)[:, 1]\n",
    "plt.hist(y_pred_prob, bins=8)\n",
    "plt.title('Histogram of predicted probabilities')\n",
    "plt.xlabel('Predicted probability of diabetes')\n",
    "plt.ylabel('Frequency')"
   ]
  },
  {
   "cell_type": "code",
   "execution_count": 14,
   "metadata": {},
   "outputs": [
    {
     "name": "stdout",
     "output_type": "stream",
     "text": [
      "[1 1 1 ..., 1 1 1]\n",
      "[ 0.  0.  0. ...,  0.  0.  0.]\n"
     ]
    }
   ],
   "source": [
    "y_pred_new = binarize([y_pred_prob], 0.7)[0]\n",
    "print(y_pred)\n",
    "print(y_pred_new)"
   ]
  },
  {
   "cell_type": "code",
   "execution_count": 15,
   "metadata": {},
   "outputs": [
    {
     "name": "stdout",
     "output_type": "stream",
     "text": [
      "('Sensitivity:', 1.0)\n",
      "('Specificity:', 0.0)\n",
      "None\n"
     ]
    }
   ],
   "source": [
    "def evaluate_threshold(threshold):\n",
    "    print('Sensitivity:', tpr[thresholds > threshold][-1])\n",
    "    print('Specificity:', 1 - fpr[thresholds > threshold][-1])\n",
    "    \n",
    "print(evaluate_threshold(0.7))"
   ]
  },
  {
   "cell_type": "markdown",
   "metadata": {},
   "source": [
    "## Grid Search"
   ]
  },
  {
   "cell_type": "code",
   "execution_count": 17,
   "metadata": {},
   "outputs": [
    {
     "data": {
      "image/png": "[encoded data removed]",
      "text/plain": [
       "<matplotlib.figure.Figure at 0x7fe712156e10>"
      ]
     },
     "metadata": {},
     "output_type": "display_data"
    },
    {
     "name": "stdout",
     "output_type": "stream",
     "text": [
      "0.299340079828\n",
      "{'C': 0.001}\n",
      "LogisticRegression(C=0.001, class_weight=None, dual=False, fit_intercept=True,\n",
      "          intercept_scaling=1, max_iter=100, multi_class='ovr', n_jobs=1,\n",
      "          penalty='l2', random_state=None, solver='liblinear', tol=0.0001,\n",
      "          verbose=0, warm_start=False)\n"
     ]
    }
   ],
   "source": [
    "param_grid = {'C': [0.001, 0.01, 0.1, 1, 10, 100, 1000] }\n",
    "\n",
    "model=LogisticRegression(penalty='l2')\n",
    "grid=GridSearchCV(model,param_grid,cv=10,scoring='accuracy')\n",
    "grid.fit(x,y)\n",
    "\n",
    "grid_mean_scores= [result.mean_validation_score for result in grid.grid_scores_]\n",
    "C=[0.001, 0.01, 0.1, 1, 10, 100, 1000]\n",
    "plt.plot(C,grid_mean_scores)\n",
    "plt.xlabel('Value of C Paramter')\n",
    "plt.ylabel('Accuracy')\n",
    "plt.show()\n",
    "\n",
    "print(grid.best_score_)\n",
    "print(grid.best_params_)\n",
    "print(grid.best_estimator_)"
   ]
  },
  {
   "cell_type": "code",
   "execution_count": 19,
   "metadata": {},
   "outputs": [
    {
     "data": {
      "text/plain": [
       "LogisticRegression(C=0.001, class_weight=None, dual=False, fit_intercept=True,\n",
       "          intercept_scaling=1, max_iter=100, multi_class='ovr', n_jobs=1,\n",
       "          penalty='l2', random_state=None, solver='liblinear', tol=0.0001,\n",
       "          verbose=0, warm_start=False)"
      ]
     },
     "execution_count": 19,
     "metadata": {},
     "output_type": "execute_result"
    }
   ],
   "source": [
    "model=LogisticRegression(**grid.best_params_)\n",
    "model.fit(x_train,y_train)"
   ]
  },
  {
   "cell_type": "code",
   "execution_count": 20,
   "metadata": {},
   "outputs": [
    {
     "name": "stdout",
     "output_type": "stream",
     "text": [
      "('Train Accuracy:', 29.881405745508733)\n",
      "('Test Accuracy:', 30.056742726065433)\n"
     ]
    }
   ],
   "source": [
    "y_predtrain=model.predict(x_train)\n",
    "print(\"Train Accuracy:\",metrics.accuracy_score(y_train,y_predtrain)*100)\n",
    "\n",
    "y_predtest=model.predict(x_test)\n",
    "print(\"Test Accuracy:\",metrics.accuracy_score(y_test,y_predtest)*100)"
   ]
  },
  {
   "cell_type": "code",
   "execution_count": 22,
   "metadata": {},
   "outputs": [
    {
     "name": "stdout",
     "output_type": "stream",
     "text": [
      "('Accuracy:', 30.056742726065433)\n",
      "('Misclassification:', 69.943257273934563)\n",
      "('Sensitivity:', 100.0)\n",
      "('Specificty:', 0.0)\n",
      "('False Positive:', 100.0)\n",
      "('Precision Score:', 30.056742726065433)\n"
     ]
    }
   ],
   "source": [
    "from sklearn.metrics import confusion_matrix\n",
    "confusion=confusion_matrix(y_test,y_predtest)\n",
    "TP=confusion[1,1]\n",
    "TN=confusion[0,0]\n",
    "FP=confusion[0,1]\n",
    "FN=confusion[1,0]\n",
    "\n",
    "# Accuracy\n",
    "print('Accuracy:',(TP+TN)/float(TP+TN+FP+FN)*100)\n",
    "\n",
    "#Misclassification\n",
    "print('Misclassification:',(FP+FN)/float(TP+TN+FP+FN)*100)\n",
    "\n",
    "#Sensitivity\n",
    "print('Sensitivity:',(TP)/float(TP+FN)*100)\n",
    "\n",
    "#Specificity\n",
    "print('Specificty:',(TN)/float(TN+FP)*100)\n",
    "\n",
    "#Flase Positive Rate\n",
    "print('False Positive:',(FP)/float(TN+FP)*100)\n",
    "\n",
    "#Precision Score\n",
    "print('Precision Score:', (TP)/float(TP+FP)*100)"
   ]
  },
  {
   "cell_type": "code",
   "execution_count": 23,
   "metadata": {},
   "outputs": [
    {
     "data": {
      "image/png": "[encoded data removed]",
      "text/plain": [
       "<matplotlib.figure.Figure at 0x7fe711e67a50>"
      ]
     },
     "metadata": {},
     "output_type": "display_data"
    },
    {
     "name": "stdout",
     "output_type": "stream",
     "text": [
      "('Train AUC:', 0.5)\n"
     ]
    },
    {
     "data": {
      "image/png": "[encoded data removed]",
      "text/plain": [
       "<matplotlib.figure.Figure at 0x7fe711de65d0>"
      ]
     },
     "metadata": {},
     "output_type": "display_data"
    },
    {
     "name": "stdout",
     "output_type": "stream",
     "text": [
      "('Test AUC:', 0.5)\n"
     ]
    }
   ],
   "source": [
    "fpr,tpr,threshold=metrics.roc_curve(y_train,y_predtrain)\n",
    "plt.plot(fpr,tpr)\n",
    "plt.xlabel('Flase Positive Rate')\n",
    "plt.ylabel('True Positive Rate')\n",
    "plt.title('Train ROC')\n",
    "plt.show()\n",
    "\n",
    "print(\"Train AUC:\",metrics.roc_auc_score(y_train,y_predtrain))\n",
    "\n",
    "\n",
    "\n",
    "fpr,tpr,threshold=metrics.roc_curve(y_test,y_predtest)\n",
    "plt.plot(fpr,tpr)\n",
    "plt.xlabel('Flase Positive Rate')\n",
    "plt.ylabel('True Positive Rate')\n",
    "plt.title('Test ROC')\n",
    "plt.show()\n",
    "\n",
    "print(\"Test AUC:\",metrics.roc_auc_score(y_test,y_predtest))"
   ]
  }
 ],
 "metadata": {
  "kernelspec": {
   "display_name": "Python 2",
   "language": "python",
   "name": "python2"
  },
  "language_info": {
   "codemirror_mode": {
    "name": "ipython",
    "version": 2
   },
   "file_extension": ".py",
   "mimetype": "text/x-python",
   "name": "python",
   "nbconvert_exporter": "python",
   "pygments_lexer": "ipython2",
   "version": "2.7.12"
  }
 },
 "nbformat": 4,
 "nbformat_minor": 2
}
