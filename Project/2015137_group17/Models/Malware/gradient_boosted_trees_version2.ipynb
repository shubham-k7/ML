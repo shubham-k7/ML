{
 "cells": [
  {
   "cell_type": "markdown",
   "metadata": {},
   "source": [
    "# Gradient Boosted Trees"
   ]
  },
  {
   "cell_type": "code",
   "execution_count": 1,
   "metadata": {},
   "outputs": [
    {
     "name": "stderr",
     "output_type": "stream",
     "text": [
      "/usr/local/lib/python2.7/dist-packages/sklearn/cross_validation.py:41: DeprecationWarning: This module was deprecated in version 0.18 in favor of the model_selection module into which all the refactored classes and functions are moved. Also note that the interface of the new CV iterators are different from that of this module. This module will be removed in 0.20.\n",
      "  \"This module will be removed in 0.20.\", DeprecationWarning)\n",
      "/usr/local/lib/python2.7/dist-packages/sklearn/grid_search.py:42: DeprecationWarning: This module was deprecated in version 0.18 in favor of the model_selection module into which all the refactored classes and functions are moved. This module will be removed in 0.20.\n",
      "  DeprecationWarning)\n"
     ]
    }
   ],
   "source": [
    "import pandas as pd\n",
    "import numpy as np\n",
    "from sklearn.manifold import TSNE\n",
    "import matplotlib.pyplot as plt\n",
    "from sklearn.ensemble import ExtraTreesClassifier\n",
    "from sklearn.feature_selection import SelectFromModel\n",
    "from sklearn.ensemble import GradientBoostingClassifier\n",
    "from sklearn.model_selection import train_test_split\n",
    "from sklearn.metrics import accuracy_score\n",
    "from sklearn.grid_search import GridSearchCV\n",
    "from sklearn import metrics \n",
    "from sklearn.metrics import roc_auc_score\n",
    "from sklearn.metrics import confusion_matrix\n",
    "from sklearn.model_selection import cross_val_score"
   ]
  },
  {
   "cell_type": "code",
   "execution_count": 2,
   "metadata": {},
   "outputs": [
    {
     "data": {
      "text/plain": [
       "GradientBoostingClassifier(criterion='friedman_mse', init=None,\n",
       "              learning_rate=0.1, loss='deviance', max_depth=3,\n",
       "              max_features=None, max_leaf_nodes=None,\n",
       "              min_impurity_decrease=0.0, min_impurity_split=None,\n",
       "              min_samples_leaf=1, min_samples_split=2,\n",
       "              min_weight_fraction_leaf=0.0, n_estimators=100,\n",
       "              presort='auto', random_state=None, subsample=1.0, verbose=0,\n",
       "              warm_start=False)"
      ]
     },
     "execution_count": 2,
     "metadata": {},
     "output_type": "execute_result"
    }
   ],
   "source": [
    "maldata=pd.read_csv('../../Data/malware.csv',sep='|')\n",
    "\n",
    "x=maldata.drop(['Name', 'md5', 'legitimate'], axis=1).values\n",
    "y=maldata['legitimate'].values\n",
    "\n",
    "feature_select_model=ExtraTreesClassifier()\n",
    "feature_select_model.fit(x,y)\n",
    "model = SelectFromModel(feature_select_model, prefit=True)\n",
    "x=model.transform(x)\n",
    "\n",
    "number_of_samples=len(y)\n",
    "\n",
    "random_indices=np.random.permutation(number_of_samples)\n",
    "\n",
    "num_train=int(number_of_samples*0.7)\n",
    "num_test=int(number_of_samples*0.30)\n",
    "\n",
    "x_train=x[random_indices[:num_train]]\n",
    "y_train=y[random_indices[:num_train]]\n",
    "\n",
    "x_test=x[random_indices[num_train:]]\n",
    "y_test=y[random_indices[num_train:]]\n",
    "\n",
    "model=GradientBoostingClassifier()\n",
    "model.fit(x_train,y_train)\n"
   ]
  },
  {
   "cell_type": "markdown",
   "metadata": {},
   "source": [
    "## Accuracy"
   ]
  },
  {
   "cell_type": "code",
   "execution_count": 3,
   "metadata": {},
   "outputs": [
    {
     "name": "stdout",
     "output_type": "stream",
     "text": [
      "('Train Accuracy:', 98.933065651130065)\n",
      "('Test Accuracy:', 98.92309549680067)\n"
     ]
    }
   ],
   "source": [
    "y_predtrain=model.predict(x_train)\n",
    "print(\"Train Accuracy:\",metrics.accuracy_score(y_train,y_predtrain)*100)\n",
    "\n",
    "y_predtest=model.predict(x_test)\n",
    "print(\"Test Accuracy:\",metrics.accuracy_score(y_test,y_predtest)*100)"
   ]
  },
  {
   "cell_type": "markdown",
   "metadata": {},
   "source": [
    "## Null Accuracy"
   ]
  },
  {
   "cell_type": "code",
   "execution_count": 4,
   "metadata": {},
   "outputs": [
    {
     "name": "stdout",
     "output_type": "stream",
     "text": [
      "70.3320053121\n"
     ]
    }
   ],
   "source": [
    "print(max(y_test.mean(), 1 - y_test.mean())*100)"
   ]
  },
  {
   "cell_type": "markdown",
   "metadata": {},
   "source": [
    "## Confusion Matrix"
   ]
  },
  {
   "cell_type": "code",
   "execution_count": 5,
   "metadata": {},
   "outputs": [
    {
     "name": "stdout",
     "output_type": "stream",
     "text": [
      "('Accuracy:', 98.92309549680067)\n",
      "('Misclassification:', 1.0769045031993238)\n",
      "('Sensitivity:', 98.095548140310896)\n",
      "('Specificty:', 99.272177973084325)\n",
      "('False Positive:', 0.72782202691568254)\n",
      "('Precision Score:', 98.271504280472882)\n"
     ]
    }
   ],
   "source": [
    "confusion=confusion_matrix(y_test,y_predtest)\n",
    "TP=confusion[1,1]\n",
    "TN=confusion[0,0]\n",
    "FP=confusion[0,1]\n",
    "FN=confusion[1,0]\n",
    "\n",
    "# Accuracy\n",
    "print('Accuracy:',(TP+TN)/float(TP+TN+FP+FN)*100)\n",
    "\n",
    "#Misclassification\n",
    "print('Misclassification:',(FP+FN)/float(TP+TN+FP+FN)*100)\n",
    "\n",
    "#Sensitivity\n",
    "print('Sensitivity:',(TP)/float(TP+FN)*100)\n",
    "\n",
    "#Specificity\n",
    "print('Specificty:',(TN)/float(TN+FP)*100)\n",
    "\n",
    "#Flase Positive Rate\n",
    "print('False Positive:',(FP)/float(TN+FP)*100)\n",
    "\n",
    "#Precision Score\n",
    "print('Precision Score:', (TP)/float(TP+FP)*100)"
   ]
  },
  {
   "cell_type": "markdown",
   "metadata": {},
   "source": [
    "## ROC-AUC"
   ]
  },
  {
   "cell_type": "code",
   "execution_count": 6,
   "metadata": {},
   "outputs": [
    {
     "data": {
      "image/png": "[encoded data removed]",
      "text/plain": [
       "<matplotlib.figure.Figure at 0x7fc3486a5a10>"
      ]
     },
     "metadata": {},
     "output_type": "display_data"
    },
    {
     "name": "stdout",
     "output_type": "stream",
     "text": [
      "('Train AUC:', 98.703985745771064)\n"
     ]
    },
    {
     "data": {
      "image/png": "[encoded data removed]",
      "text/plain": [
       "<matplotlib.figure.Figure at 0x7fc311e22d50>"
      ]
     },
     "metadata": {},
     "output_type": "display_data"
    },
    {
     "name": "stdout",
     "output_type": "stream",
     "text": [
      "('Test AUC:', 98.683863056697604)\n",
      "('Mean Cross-Val AUC Score:', 99.805524278843961)\n"
     ]
    }
   ],
   "source": [
    "fpr,tpr,threshold=metrics.roc_curve(y_train,y_predtrain)\n",
    "plt.plot(fpr,tpr)\n",
    "plt.xlabel('Flase Positive Rate')\n",
    "plt.ylabel('True Positive Rate')\n",
    "plt.title('Train ROC')\n",
    "plt.show()\n",
    "\n",
    "print(\"Train AUC:\",metrics.roc_auc_score(y_train,y_predtrain)*100)\n",
    "\n",
    "\n",
    "\n",
    "fpr,tpr,threshold=metrics.roc_curve(y_test,y_predtest)\n",
    "plt.plot(fpr,tpr)\n",
    "plt.xlabel('Flase Positive Rate')\n",
    "plt.ylabel('True Positive Rate')\n",
    "plt.title('Test ROC')\n",
    "plt.show()\n",
    "\n",
    "print(\"Test AUC:\",metrics.roc_auc_score(y_test,y_predtest)*100)\n",
    "\n",
    "\n",
    "\n",
    "print(\"Mean Cross-Val AUC Score:\",cross_val_score(model, x, y, cv=10, scoring='roc_auc').mean()*100)"
   ]
  },
  {
   "cell_type": "markdown",
   "metadata": {
    "collapsed": true
   },
   "source": [
    "## Parameter Tuning\n",
    "\n",
    "1) n_estimators: # of small trees to use in ensemble\n",
    "\n",
    "2) learning_rate: controls emphasis on fixing errors from previous iteration\n",
    "\n",
    "3) max_depth: Usually set to 3-5  "
   ]
  },
  {
   "cell_type": "code",
   "execution_count": 7,
   "metadata": {},
   "outputs": [],
   "source": [
    "param_grid={   \n",
    "    \"n_estimators\" : [100,300],\n",
    "    \"max_depth\" : [3,4,5],\n",
    "    \"min_samples_leaf\" : [40,50]\n",
    "}"
   ]
  },
  {
   "cell_type": "code",
   "execution_count": 8,
   "metadata": {},
   "outputs": [
    {
     "name": "stdout",
     "output_type": "stream",
     "text": [
      "0.984577716285\n",
      "{'n_estimators': 100, 'max_depth': 3, 'min_samples_leaf': 50}\n",
      "GradientBoostingClassifier(criterion='friedman_mse', init=None,\n",
      "              learning_rate=0.1, loss='deviance', max_depth=3,\n",
      "              max_features=None, max_leaf_nodes=None,\n",
      "              min_impurity_decrease=0.0, min_impurity_split=None,\n",
      "              min_samples_leaf=50, min_samples_split=2,\n",
      "              min_weight_fraction_leaf=0.0, n_estimators=100,\n",
      "              presort='auto', random_state=None, subsample=1.0, verbose=0,\n",
      "              warm_start=False)\n"
     ]
    }
   ],
   "source": [
    "tuned_classifier=GridSearchCV(model,param_grid,cv=10,scoring='accuracy')\n",
    "tuned_classifier.fit(x,y)\n",
    "\n",
    "print(tuned_classifier.best_score_)\n",
    "print(tuned_classifier.best_params_)\n",
    "print(tuned_classifier.best_estimator_)"
   ]
  },
  {
   "cell_type": "markdown",
   "metadata": {},
   "source": [
    "## Train model with best parameters"
   ]
  },
  {
   "cell_type": "code",
   "execution_count": 10,
   "metadata": {},
   "outputs": [
    {
     "data": {
      "text/plain": [
       "GradientBoostingClassifier(criterion='friedman_mse', init=None,\n",
       "              learning_rate=0.1, loss='deviance', max_depth=3,\n",
       "              max_features=None, max_leaf_nodes=None,\n",
       "              min_impurity_decrease=0.0, min_impurity_split=None,\n",
       "              min_samples_leaf=50, min_samples_split=2,\n",
       "              min_weight_fraction_leaf=0.0, n_estimators=100,\n",
       "              presort='auto', random_state=None, subsample=1.0, verbose=0,\n",
       "              warm_start=False)"
      ]
     },
     "execution_count": 10,
     "metadata": {},
     "output_type": "execute_result"
    }
   ],
   "source": [
    "model=GradientBoostingClassifier(**tuned_classifier.best_params_)\n",
    "model.fit(x_train,y_train)"
   ]
  },
  {
   "cell_type": "markdown",
   "metadata": {},
   "source": [
    "# Results"
   ]
  },
  {
   "cell_type": "code",
   "execution_count": 11,
   "metadata": {},
   "outputs": [
    {
     "name": "stdout",
     "output_type": "stream",
     "text": [
      "('Train Accuracy:', 98.900985180892448)\n",
      "('Test Accuracy:', 98.937583001328022)\n"
     ]
    }
   ],
   "source": [
    "y_predtrain=model.predict(x_train)\n",
    "print(\"Train Accuracy:\",metrics.accuracy_score(y_train,y_predtrain)*100)\n",
    "\n",
    "y_predtest=model.predict(x_test)\n",
    "print(\"Test Accuracy:\",metrics.accuracy_score(y_test,y_predtest)*100)"
   ]
  },
  {
   "cell_type": "code",
   "execution_count": 12,
   "metadata": {},
   "outputs": [
    {
     "name": "stdout",
     "output_type": "stream",
     "text": [
      "('Accuracy:', 98.937583001328022)\n",
      "('Misclassification:', 1.0624169986719787)\n",
      "('Sensitivity:', 98.095548140310896)\n",
      "('Specificty:', 99.292776709695147)\n",
      "('False Positive:', 0.70722329030486131)\n",
      "('Precision Score:', 98.319601925116245)\n"
     ]
    }
   ],
   "source": [
    "confusion=confusion_matrix(y_test,y_predtest)\n",
    "TP=confusion[1,1]\n",
    "TN=confusion[0,0]\n",
    "FP=confusion[0,1]\n",
    "FN=confusion[1,0]\n",
    "\n",
    "# Accuracy\n",
    "print('Accuracy:',(TP+TN)/float(TP+TN+FP+FN)*100)\n",
    "\n",
    "#Misclassification\n",
    "print('Misclassification:',(FP+FN)/float(TP+TN+FP+FN)*100)\n",
    "\n",
    "#Sensitivity\n",
    "print('Sensitivity:',(TP)/float(TP+FN)*100)\n",
    "\n",
    "#Specificity\n",
    "print('Specificty:',(TN)/float(TN+FP)*100)\n",
    "\n",
    "#Flase Positive Rate\n",
    "print('False Positive:',(FP)/float(TN+FP)*100)\n",
    "\n",
    "#Precision Score\n",
    "print('Precision Score:', (TP)/float(TP+FP)*100)"
   ]
  },
  {
   "cell_type": "code",
   "execution_count": 13,
   "metadata": {},
   "outputs": [
    {
     "data": {
      "image/png": "[encoded data removed]",
      "text/plain": [
       "<matplotlib.figure.Figure at 0x7fc30fcbc3d0>"
      ]
     },
     "metadata": {},
     "output_type": "display_data"
    },
    {
     "name": "stdout",
     "output_type": "stream",
     "text": [
      "('Train AUC:', 0.98661409164131875)\n"
     ]
    },
    {
     "data": {
      "image/png": "[encoded data removed]",
      "text/plain": [
       "<matplotlib.figure.Figure at 0x7fc30f58df50>"
      ]
     },
     "metadata": {},
     "output_type": "display_data"
    },
    {
     "name": "stdout",
     "output_type": "stream",
     "text": [
      "('Test AUC:', 0.98694162425003018)\n"
     ]
    }
   ],
   "source": [
    "fpr,tpr,threshold=metrics.roc_curve(y_train,y_predtrain)\n",
    "plt.plot(fpr,tpr)\n",
    "plt.xlabel('Flase Positive Rate')\n",
    "plt.ylabel('True Positive Rate')\n",
    "plt.title('Train ROC')\n",
    "plt.show()\n",
    "\n",
    "print(\"Train AUC:\",metrics.roc_auc_score(y_train,y_predtrain))\n",
    "\n",
    "\n",
    "\n",
    "fpr,tpr,threshold=metrics.roc_curve(y_test,y_predtest)\n",
    "plt.plot(fpr,tpr)\n",
    "plt.xlabel('Flase Positive Rate')\n",
    "plt.ylabel('True Positive Rate')\n",
    "plt.title('Test ROC')\n",
    "plt.show()\n",
    "\n",
    "print(\"Test AUC:\",metrics.roc_auc_score(y_test,y_predtest))"
   ]
  }
 ],
 "metadata": {
  "kernelspec": {
   "display_name": "Python 2",
   "language": "python",
   "name": "python2"
  },
  "language_info": {
   "codemirror_mode": {
    "name": "ipython",
    "version": 2
   },
   "file_extension": ".py",
   "mimetype": "text/x-python",
   "name": "python",
   "nbconvert_exporter": "python",
   "pygments_lexer": "ipython2",
   "version": "2.7.12"
  }
 },
 "nbformat": 4,
 "nbformat_minor": 2
}
